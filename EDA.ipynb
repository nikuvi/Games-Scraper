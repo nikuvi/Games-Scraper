{
 "cells": [
  {
   "cell_type": "code",
   "execution_count": null,
   "id": "de0dac8b",
   "metadata": {},
   "outputs": [],
   "source": [
    "import numpy as np\n",
    "import pandas as pd\n",
    "import matplotlib.pyplot as plt\n",
    "import seaborn as sns\n",
    "import geopandas as gpd\n",
    "import warnings\n",
    "\n",
    "warnings.filterwarnings('ignore') #Ignorar advertencias\n",
    "pd.set_option('display.max_rows', None)    # Muestra todas las filas (para muchas columnas)\n",
    "pd.set_option('display.max_columns', None) # Muestra todas las columnas\n",
    "pd.set_option('display.width', None)       # Ajusta el ancho\n",
    "pd.set_option('display.max_colwidth', None)# Muestra todo el contenido de cada celda"
   ]
  },
  {
   "cell_type": "code",
   "execution_count": null,
   "id": "5d0a307b",
   "metadata": {},
   "outputs": [],
   "source": [
    "data = pd.read_csv('data_limpia.csv')"
   ]
  },
  {
   "cell_type": "code",
   "execution_count": null,
   "id": "dc6401a3",
   "metadata": {},
   "outputs": [],
   "source": [
    "data.isnull().sum() # Verificamos si hay valores nulos"
   ]
  }
 ],
 "metadata": {
  "kernelspec": {
   "display_name": "Python 3",
   "language": "python",
   "name": "python3"
  },
  "language_info": {
   "codemirror_mode": {
    "name": "ipython",
    "version": 3
   },
   "file_extension": ".py",
   "mimetype": "text/x-python",
   "name": "python",
   "nbconvert_exporter": "python",
   "pygments_lexer": "ipython3",
   "version": "3.13.2"
  }
 },
 "nbformat": 4,
 "nbformat_minor": 5
}
