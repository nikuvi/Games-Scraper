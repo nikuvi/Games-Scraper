{
 "cells": [
  {
   "cell_type": "markdown",
   "id": "b6f4ff9c",
   "metadata": {},
   "source": [
    "### Librerias"
   ]
  },
  {
   "cell_type": "code",
   "execution_count": null,
   "id": "034a0b2d",
   "metadata": {},
   "outputs": [],
   "source": [
    "import numpy as np\n",
    "import pandas as pd\n",
    "import warnings\n",
    "\n",
    "warnings.filterwarnings('ignore')\n",
    "pd.set_option('display.max_rows', None)    # Muestra todas las filas (para muchas columnas)\n",
    "pd.set_option('display.max_columns', None) # Muestra todas las columnas\n",
    "pd.set_option('display.width', None)       # Ajusta el ancho\n",
    "pd.set_option('display.max_colwidth', None)# Muestra todo el contenido de cada celda"
   ]
  },
  {
   "cell_type": "code",
   "execution_count": null,
   "id": "7704d36b",
   "metadata": {},
   "outputs": [],
   "source": [
    "dataset = pd.read_csv('dataset_metacritic_scraper_2025-02-15.csv')"
   ]
  },
  {
   "cell_type": "code",
   "execution_count": null,
   "id": "3d35de6b",
   "metadata": {},
   "outputs": [],
   "source": [
    "dataset.info()"
   ]
  },
  {
   "cell_type": "code",
   "execution_count": null,
   "id": "20f42c55",
   "metadata": {},
   "outputs": [],
   "source": [
    "dataset.sample(5)"
   ]
  },
  {
   "cell_type": "code",
   "execution_count": null,
   "id": "e040803d",
   "metadata": {},
   "outputs": [],
   "source": [
    "#dataset.info()\n",
    "#dataset.describe()\n",
    "#dataset.isnull().sum()\n",
    "dataset.dtypes\n",
    "#dataset.tail()\n",
    "#dataset.head()"
   ]
  },
  {
   "cell_type": "code",
   "execution_count": null,
   "id": "1677bd3f",
   "metadata": {},
   "outputs": [],
   "source": [
    "for i, genre in enumerate(dataset['releaseDate'].unique(), 1): # Codigo para mostrar los datos únicos en una columna\n",
    "    print(f\"{i}: {genre}\")"
   ]
  },
  {
   "cell_type": "code",
   "execution_count": null,
   "id": "41ddaaa0",
   "metadata": {},
   "outputs": [],
   "source": [
    "for i in dataset.columns: # Recorre las columnas y las describe\n",
    "    print(i)\n",
    "    print(dataset[i].describe())\n",
    "    print('---------------------------------') "
   ]
  },
  {
   "cell_type": "markdown",
   "id": "2e45bdfb",
   "metadata": {},
   "source": [
    "## Reemplazo de valores nulos"
   ]
  },
  {
   "cell_type": "code",
   "execution_count": null,
   "id": "bcd1f65b",
   "metadata": {},
   "outputs": [],
   "source": [
    "dataset.isnull().sum()"
   ]
  },
  {
   "cell_type": "code",
   "execution_count": null,
   "id": "9986bf75",
   "metadata": {},
   "outputs": [],
   "source": [
    "dataset.dtypes"
   ]
  },
  {
   "cell_type": "code",
   "execution_count": null,
   "id": "7b68ea5e",
   "metadata": {},
   "outputs": [],
   "source": [
    "# Cambios de formatos\n",
    "dataset['releaseDate'] = pd.to_datetime(dataset['releaseDate'], format='%Y-%m-%d', errors='coerce') #Cambio de formato de fecha\n",
    "dataset['releaseDate'] = dataset['releaseDate'].fillna(dataset['releaseDate'].mean())\n",
    "dataset['metascore'] = pd.to_numeric(dataset['metascore'], errors='coerce').fillna(0).astype(int) #Cambio de formato de metascore\n",
    "\n",
    "# Reemplazos con valores específicos\n",
    "dataset['publisherName'] = dataset['publisherName'].fillna('Unknown Publisher')\n",
    "dataset['summary'] = dataset['summary'].fillna('No summary available')\n",
    "\n",
    "# Reemplazos con 0 \n",
    "cols_with_zeros = [\n",
    "    'userReviewsSummary/negative',\n",
    "    'userReviewsSummary/neutral',\n",
    "    'userReviewsSummary/positive',\n",
    "    'userReviewsSummary/reviewCount'\n",
    "]\n",
    "\n",
    "dataset[cols_with_zeros] = dataset[cols_with_zeros].fillna(0)\n",
    "\n",
    "# Columnas de tipo float64\n",
    "float_cols = dataset.select_dtypes(include='float64')\n",
    "dataset[float_cols.columns] = float_cols.fillna(0.0) # Rellenar los valores nulos con 0 en esas columnas\n",
    "\n",
    "# Columnas de tipo object\n",
    "object_cols = dataset.select_dtypes(include='object')\n",
    "dataset[object_cols.columns] = object_cols.fillna('Unknown') # Rellenar los valores nulos con 'Unknown' en esas columnas\n",
    "\n",
    "# Columna de userscore con 'tbd'\n",
    "dataset['userscore'] = dataset['userscore'].replace('tbd', np.nan) # Reemplazar 'tbd' por NaN\n",
    "dataset['userscore'] = pd.to_numeric(dataset['userscore'], errors='coerce').fillna(0.0) # Cambiar el tipo de datos a numérico y rellenar los nulos con 0"
   ]
  },
  {
   "cell_type": "markdown",
   "id": "2cb80893",
   "metadata": {},
   "source": [
    "#### Borrado de columnas con nulos mayores al 75% de los entries. (opcional)"
   ]
  },
  {
   "cell_type": "code",
   "execution_count": null,
   "id": "c43194c3",
   "metadata": {},
   "outputs": [],
   "source": [
    "umbral75 = 0.75 * len(dataset) #Umbral para eliminar columnas con más del 75% de valores nulos\n",
    "dataset = dataset.dropna(axis=1, thresh=len(dataset) - umbral75) #Eliminar columnas con más del 75% de valores nulos"
   ]
  },
  {
   "cell_type": "markdown",
   "id": "d765914c",
   "metadata": {},
   "source": [
    "## Carga de datos limpios a un csv nuevo"
   ]
  },
  {
   "cell_type": "code",
   "execution_count": null,
   "id": "add9ae1c",
   "metadata": {},
   "outputs": [],
   "source": [
    "dataset.to_csv('data_limpia.csv', index=False) #Guardar el dataset limpio en un nuevo archivo CSV"
   ]
  },
  {
   "cell_type": "code",
   "execution_count": 1,
   "id": "21bcf6b7",
   "metadata": {},
   "outputs": [],
   "source": [
    "import numpy as np\n",
    "import pandas as pd\n",
    "import warnings\n",
    "\n",
    "warnings.filterwarnings('ignore')\n",
    "pd.set_option('display.max_rows', None)    # Muestra todas las filas (para muchas columnas)\n",
    "pd.set_option('display.max_columns', None) # Muestra todas las columnas\n",
    "pd.set_option('display.width', None)       # Ajusta el ancho\n",
    "pd.set_option('display.max_colwidth', None)# Muestra todo el contenido de cada celda"
   ]
  },
  {
   "cell_type": "code",
   "execution_count": 2,
   "id": "499d3b32",
   "metadata": {},
   "outputs": [],
   "source": [
    "data_limpia = pd.read_csv('data_limpia.csv') #Leer el nuevo archivo CSV\n",
    "data_limpia['releaseDate'] = pd.to_datetime(data_limpia['releaseDate'], format='%Y-%m-%d', errors='coerce') #Cambio de formato de fecha\n",
    "data_limpia['releaseDate'] = data_limpia['releaseDate'].fillna(data_limpia['releaseDate'].mean()) #Rellenar los valores nulos con la media"
   ]
  },
  {
   "cell_type": "code",
   "execution_count": null,
   "id": "f9eba5f9",
   "metadata": {},
   "outputs": [],
   "source": [
    "data_limpia.head(30) #Verificar la información del nuevo dataset"
   ]
  },
  {
   "cell_type": "code",
   "execution_count": null,
   "id": "95267278",
   "metadata": {},
   "outputs": [],
   "source": [
    "data_limpia[[\"title\", \"metascore\"]] #Verificar la información del nuevo dataset"
   ]
  },
  {
   "cell_type": "code",
   "execution_count": null,
   "id": "33c4cd50",
   "metadata": {},
   "outputs": [],
   "source": [
    "data_limpia.info()"
   ]
  },
  {
   "cell_type": "code",
   "execution_count": null,
   "id": "76f4430c",
   "metadata": {},
   "outputs": [],
   "source": [
    "data_limpia[['title', 'summary']].head(30)"
   ]
  },
  {
   "cell_type": "code",
   "execution_count": null,
   "id": "02a03882",
   "metadata": {},
   "outputs": [],
   "source": [
    "data_limpia.isnull().sum() #Verificar si hay valores nulos en el nuevo dataset"
   ]
  },
  {
   "cell_type": "code",
   "execution_count": null,
   "id": "fcd061c8",
   "metadata": {},
   "outputs": [],
   "source": [
    "for i in data_limpia.columns: # Recorre las columnas y las describe\n",
    "    print(i)\n",
    "    print(data_limpia[i].describe())\n",
    "    print('---------------------------------') "
   ]
  },
  {
   "cell_type": "code",
   "execution_count": 3,
   "id": "0a9e4666",
   "metadata": {},
   "outputs": [],
   "source": [
    "data_limpia = data_limpia.drop('summary', axis=1) #Eliminar la columna 'summary' del nuevo dataset"
   ]
  },
  {
   "cell_type": "code",
   "execution_count": 4,
   "id": "244e666d",
   "metadata": {},
   "outputs": [],
   "source": [
    "data_limpia.to_csv(\"archivo_limpio.csv\", index=False)\n"
   ]
  }
 ],
 "metadata": {
  "kernelspec": {
   "display_name": "Python 3",
   "language": "python",
   "name": "python3"
  },
  "language_info": {
   "codemirror_mode": {
    "name": "ipython",
    "version": 3
   },
   "file_extension": ".py",
   "mimetype": "text/x-python",
   "name": "python",
   "nbconvert_exporter": "python",
   "pygments_lexer": "ipython3",
   "version": "3.13.2"
  }
 },
 "nbformat": 4,
 "nbformat_minor": 5
}
